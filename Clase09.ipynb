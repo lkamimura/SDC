{
 "cells": [
  {
   "cell_type": "markdown",
   "metadata": {},
   "source": [
    "Desarrollo de un PID"
   ]
  },
  {
   "cell_type": "code",
   "execution_count": 1,
   "metadata": {},
   "outputs": [],
   "source": [
    "from ipywidgets import interact, interactive, fixed, interact_manual\n",
    "import ipywidgets as widgets\n",
    "import matplotlib.pyplot as plt\n",
    "import numpy as np\n",
    "import control as ct\n",
    "from control.matlab import *\n",
    "from IPython.display import display, Latex"
   ]
  },
  {
   "attachments": {
    "image.png": {
     "image/png": "[encoded data removed]"
    }
   },
   "cell_type": "markdown",
   "metadata": {},
   "source": [
    "![image.png](attachment:image.png)"
   ]
  },
  {
   "cell_type": "code",
   "execution_count": 12,
   "metadata": {},
   "outputs": [
    {
     "data": {
      "application/vnd.jupyter.widget-view+json": {
       "model_id": "6575ed9809f44409956a8b899c69ca57",
       "version_major": 2,
       "version_minor": 0
      },
      "text/plain": [
       "interactive(children=(FloatSlider(value=2.5000000000000004, description='kp', max=5.0, min=0.1), FloatSlider(v…"
      ]
     },
     "metadata": {},
     "output_type": "display_data"
    },
    {
     "data": {
      "text/plain": [
       "<function __main__.plot_func(kp, ki, kd)>"
      ]
     },
     "execution_count": 12,
     "metadata": {},
     "output_type": "execute_result"
    }
   ],
   "source": [
    "def plot_func(kp,ki,kd):\n",
    "    G =12.73* ct.tf([1.618, 1],[1,1.76,29.49])\n",
    "    PID=ct.tf([kd, kp, ki],[1,0])\n",
    "    Gc=G*PID\n",
    "    GCl=ct.feedback(G,1)\n",
    "    GcCl=ct.feedback(Gc,1)\n",
    "\n",
    "    t=np.linspace(0,50,1000)\n",
    "    plt.figure(1)\n",
    "    y, T = step(GCl,t)\n",
    "    plt.plot(T, y)\n",
    "    yc, T = step(GcCl,t)\n",
    "    plt.plot(T, yc)\n",
    "    plt.grid('on')\n",
    "    plt.legend(['G','Gc'])\n",
    "    plt.show()\n",
    "\n",
    "interact(plot_func, kp = (0.1,5,0.1), ki = (0,5,0.1), kd = (0,10,0.1) )"
   ]
  }
 ],
 "metadata": {
  "kernelspec": {
   "display_name": "Python 3",
   "language": "python",
   "name": "python3"
  },
  "language_info": {
   "codemirror_mode": {
    "name": "ipython",
    "version": 3
   },
   "file_extension": ".py",
   "mimetype": "text/x-python",
   "name": "python",
   "nbconvert_exporter": "python",
   "pygments_lexer": "ipython3",
   "version": "3.10.5"
  }
 },
 "nbformat": 4,
 "nbformat_minor": 2
}
